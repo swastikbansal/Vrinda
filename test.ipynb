{
 "cells": [
  {
   "cell_type": "code",
   "execution_count": 9,
   "id": "76476369",
   "metadata": {},
   "outputs": [],
   "source": [
    "from tqdm.notebook import tqdm\n",
    "from ultralytics import YOLO\n",
    "from glob import glob\n",
    "import random"
   ]
  },
  {
   "cell_type": "code",
   "execution_count": 10,
   "id": "34863043",
   "metadata": {},
   "outputs": [],
   "source": [
    "model = YOLO(\"Model/YOLO_V4.pt\")  "
   ]
  },
  {
   "cell_type": "code",
   "execution_count": null,
   "id": "541fe717",
   "metadata": {},
   "outputs": [
    {
     "data": {
      "text/plain": [
       "'Number of test images: 546'"
      ]
     },
     "execution_count": 11,
     "metadata": {},
     "output_type": "execute_result"
    }
   ],
   "source": [
    "test_dir = glob(r\"Datasets/test/images/*.jpg\")\n",
    "f\"Number of test images: {len(test_dir)}\"\n",
    "for i in tqdm(range(50)):\n",
    "    model.predict(random.choice(test_dir),save= True,conf = 0.3,show_conf =False)"
   ]
  }
 ],
 "metadata": {
  "kernelspec": {
   "display_name": "Python 3",
   "language": "python",
   "name": "python3"
  },
  "language_info": {
   "codemirror_mode": {
    "name": "ipython",
    "version": 3
   },
   "file_extension": ".py",
   "mimetype": "text/x-python",
   "name": "python",
   "nbconvert_exporter": "python",
   "pygments_lexer": "ipython3",
   "version": "3.10.11"
  }
 },
 "nbformat": 4,
 "nbformat_minor": 5
}
